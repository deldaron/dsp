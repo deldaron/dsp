{
 "cells": [
  {
   "cell_type": "markdown",
   "metadata": {},
   "source": [
    "#### Answers submitted by:  Paul Black \n",
    "#### Date:  04/01/2017\n",
    "---"
   ]
  },
  {
   "cell_type": "markdown",
   "metadata": {},
   "source": [
    "# Python Part 3:  Pandas Exercises\n",
    "---"
   ]
  },
  {
   "cell_type": "markdown",
   "metadata": {},
   "source": [
    "## Q1:  Read in the libraries you need"
   ]
  },
  {
   "cell_type": "code",
   "execution_count": 1,
   "metadata": {
    "collapsed": true
   },
   "outputs": [],
   "source": [
    "# Python 2 & 3 Compatibility\n",
    "from __future__ import print_function, division"
   ]
  },
  {
   "cell_type": "code",
   "execution_count": 2,
   "metadata": {
    "collapsed": true
   },
   "outputs": [],
   "source": [
    "# imports a library 'pandas', names it as 'pd'\n",
    "import pandas as pd\n",
    "import numpy as np\n",
    "import matplotlib.pyplot as plt\n",
    "\n",
    "from IPython.display import Image\n",
    "\n",
    "# enables inline plots, without it plots don't show up in the notebook\n",
    "%matplotlib inline"
   ]
  },
  {
   "cell_type": "markdown",
   "metadata": {},
   "source": [
    "## Q2:  Set options in pandas so it displays `max_rows` to 10"
   ]
  },
  {
   "cell_type": "code",
   "execution_count": 3,
   "metadata": {
    "collapsed": false
   },
   "outputs": [],
   "source": [
    "# set various options in pandas\n",
    "pd.set_option('display.max_columns', None)\n",
    "pd.set_option('display.max_rows', 10)\n",
    "pd.set_option('display.precision', 3)"
   ]
  },
  {
   "cell_type": "markdown",
   "metadata": {},
   "source": [
    "## Q3:  What versions of `Python` and `pandas` are you running?  \n",
    "\n"
   ]
  },
  {
   "cell_type": "code",
   "execution_count": 4,
   "metadata": {
    "collapsed": false
   },
   "outputs": [
    {
     "name": "stdout",
     "output_type": "stream",
     "text": [
      "Pandas version: 0.18.0\n",
      "Numpy version: 1.10.4\n"
     ]
    }
   ],
   "source": [
    "print(\"Pandas version:\",pd.__version__)\n",
    "print(\"Numpy version:\",np.__version__)"
   ]
  },
  {
   "cell_type": "code",
   "execution_count": 5,
   "metadata": {
    "collapsed": false
   },
   "outputs": [
    {
     "name": "stdout",
     "output_type": "stream",
     "text": [
      "Python Version: 2.7.11 |Anaconda 4.0.0 (64-bit)| (default, Feb 16 2016, 09:58:36) [MSC v.1500 64 bit (AMD64)]\n"
     ]
    }
   ],
   "source": [
    "# confirming which version of Python I am using\n",
    "import sys\n",
    "print(\"Python Version:\", sys.version)"
   ]
  },
  {
   "cell_type": "markdown",
   "metadata": {},
   "source": [
    "## Q4:  Read in the \"olive\" dataset that is available in this folder\n",
    "Description:  572 olive oil samples from 3 different regions (and 9 sub-regions) of Italy; for each sample the normalized concentrations of 8 fatty acids are given.  \n",
    "Source:  http://www2.chemie.uni-erlangen.de/publications/ANN-book/datasets/oliveoil/\n",
    "\n",
    "There are 3 regions: \n",
    "* South\n",
    "* North\n",
    "* Sardinia\n",
    "\n",
    "There are 9 sub-regions (areas): \n",
    "* North Apulia\n",
    "* South Apulia\n",
    "* Calabria\n",
    "* Sicily\n",
    "* Inland\n",
    "* Coastal Sardinia\n",
    "* Umbria\n",
    "* East\n",
    "* West Liguria\n",
    "\n",
    "Supplemental report:  http://www.public.iastate.edu/~dicook/stat503/05/cs-olive.pdf"
   ]
  },
  {
   "cell_type": "code",
   "execution_count": 6,
   "metadata": {
    "collapsed": false
   },
   "outputs": [],
   "source": [
    "# read csv data into pandas dataframe\n",
    "df = pd.read_csv('olive.csv')"
   ]
  },
  {
   "cell_type": "markdown",
   "metadata": {},
   "source": [
    "## Q5:  How many rows and columns are in this dataframe?"
   ]
  },
  {
   "cell_type": "code",
   "execution_count": 11,
   "metadata": {
    "collapsed": false
   },
   "outputs": [
    {
     "data": {
      "text/plain": [
       "(572, 11)"
      ]
     },
     "execution_count": 11,
     "metadata": {},
     "output_type": "execute_result"
    }
   ],
   "source": [
    "df.shape"
   ]
  },
  {
   "cell_type": "markdown",
   "metadata": {},
   "source": [
    ">> There are 572 rows and 11 columns"
   ]
  },
  {
   "cell_type": "markdown",
   "metadata": {},
   "source": [
    "## Q6:  Print the first 4 rows of the data"
   ]
  },
  {
   "cell_type": "code",
   "execution_count": 12,
   "metadata": {
    "collapsed": false
   },
   "outputs": [
    {
     "data": {
      "text/html": [
       "<div>\n",
       "<table border=\"1\" class=\"dataframe\">\n",
       "  <thead>\n",
       "    <tr style=\"text-align: right;\">\n",
       "      <th></th>\n",
       "      <th>Unnamed: 0</th>\n",
       "      <th>region</th>\n",
       "      <th>area</th>\n",
       "      <th>palmitic</th>\n",
       "      <th>palmitoleic</th>\n",
       "      <th>stearic</th>\n",
       "      <th>oleic</th>\n",
       "      <th>linoleic</th>\n",
       "      <th>linolenic</th>\n",
       "      <th>arachidic</th>\n",
       "      <th>eicosenoic</th>\n",
       "    </tr>\n",
       "  </thead>\n",
       "  <tbody>\n",
       "    <tr>\n",
       "      <th>0</th>\n",
       "      <td>1.North-Apulia</td>\n",
       "      <td>1</td>\n",
       "      <td>1</td>\n",
       "      <td>1075</td>\n",
       "      <td>75</td>\n",
       "      <td>226</td>\n",
       "      <td>7823</td>\n",
       "      <td>672</td>\n",
       "      <td>36</td>\n",
       "      <td>60</td>\n",
       "      <td>29</td>\n",
       "    </tr>\n",
       "    <tr>\n",
       "      <th>1</th>\n",
       "      <td>2.North-Apulia</td>\n",
       "      <td>1</td>\n",
       "      <td>1</td>\n",
       "      <td>1088</td>\n",
       "      <td>73</td>\n",
       "      <td>224</td>\n",
       "      <td>7709</td>\n",
       "      <td>781</td>\n",
       "      <td>31</td>\n",
       "      <td>61</td>\n",
       "      <td>29</td>\n",
       "    </tr>\n",
       "    <tr>\n",
       "      <th>2</th>\n",
       "      <td>3.North-Apulia</td>\n",
       "      <td>1</td>\n",
       "      <td>1</td>\n",
       "      <td>911</td>\n",
       "      <td>54</td>\n",
       "      <td>246</td>\n",
       "      <td>8113</td>\n",
       "      <td>549</td>\n",
       "      <td>31</td>\n",
       "      <td>63</td>\n",
       "      <td>29</td>\n",
       "    </tr>\n",
       "    <tr>\n",
       "      <th>3</th>\n",
       "      <td>4.North-Apulia</td>\n",
       "      <td>1</td>\n",
       "      <td>1</td>\n",
       "      <td>966</td>\n",
       "      <td>57</td>\n",
       "      <td>240</td>\n",
       "      <td>7952</td>\n",
       "      <td>619</td>\n",
       "      <td>50</td>\n",
       "      <td>78</td>\n",
       "      <td>35</td>\n",
       "    </tr>\n",
       "  </tbody>\n",
       "</table>\n",
       "</div>"
      ],
      "text/plain": [
       "       Unnamed: 0  region  area  palmitic  palmitoleic  stearic  oleic  \\\n",
       "0  1.North-Apulia       1     1      1075           75      226   7823   \n",
       "1  2.North-Apulia       1     1      1088           73      224   7709   \n",
       "2  3.North-Apulia       1     1       911           54      246   8113   \n",
       "3  4.North-Apulia       1     1       966           57      240   7952   \n",
       "\n",
       "   linoleic  linolenic  arachidic  eicosenoic  \n",
       "0       672         36         60          29  \n",
       "1       781         31         61          29  \n",
       "2       549         31         63          29  \n",
       "3       619         50         78          35  "
      ]
     },
     "execution_count": 12,
     "metadata": {},
     "output_type": "execute_result"
    }
   ],
   "source": [
    "df.head(4)"
   ]
  },
  {
   "cell_type": "markdown",
   "metadata": {},
   "source": [
    "## Q7:  How many different data types are in this dataframe, and what are the data types?"
   ]
  },
  {
   "cell_type": "code",
   "execution_count": 13,
   "metadata": {
    "collapsed": false
   },
   "outputs": [
    {
     "data": {
      "text/plain": [
       "Unnamed: 0     object\n",
       "region          int64\n",
       "area            int64\n",
       "palmitic        int64\n",
       "palmitoleic     int64\n",
       "                ...  \n",
       "oleic           int64\n",
       "linoleic        int64\n",
       "linolenic       int64\n",
       "arachidic       int64\n",
       "eicosenoic      int64\n",
       "dtype: object"
      ]
     },
     "execution_count": 13,
     "metadata": {},
     "output_type": "execute_result"
    }
   ],
   "source": [
    "df.dtypes"
   ]
  },
  {
   "cell_type": "markdown",
   "metadata": {},
   "source": [
    ">>There are two data types, int and object."
   ]
  },
  {
   "cell_type": "markdown",
   "metadata": {},
   "source": [
    "## Q8:  Create a new column\n",
    "### Copy the column to:  'Unnamed: 0' to 'sub_region_raw'"
   ]
  },
  {
   "cell_type": "code",
   "execution_count": 29,
   "metadata": {
    "collapsed": false
   },
   "outputs": [],
   "source": [
    "df['sub_region_raw'] = df['Unnamed: 0']"
   ]
  },
  {
   "cell_type": "markdown",
   "metadata": {},
   "source": [
    "## Q9:  Rename a column\n",
    "### 'Unnamed: 0' to:  'sub_region_desc'"
   ]
  },
  {
   "cell_type": "code",
   "execution_count": 31,
   "metadata": {
    "collapsed": false
   },
   "outputs": [
    {
     "data": {
      "text/html": [
       "<div>\n",
       "<table border=\"1\" class=\"dataframe\">\n",
       "  <thead>\n",
       "    <tr style=\"text-align: right;\">\n",
       "      <th></th>\n",
       "      <th>sub_region_desc</th>\n",
       "      <th>region</th>\n",
       "      <th>sub_region</th>\n",
       "      <th>palmitic</th>\n",
       "      <th>palmitoleic</th>\n",
       "      <th>stearic</th>\n",
       "      <th>oleic</th>\n",
       "      <th>linoleic</th>\n",
       "      <th>linolenic</th>\n",
       "      <th>arachidic</th>\n",
       "      <th>eicosenoic</th>\n",
       "      <th>suf_region_raw</th>\n",
       "      <th>sub_region_raw</th>\n",
       "    </tr>\n",
       "  </thead>\n",
       "  <tbody>\n",
       "    <tr>\n",
       "      <th>0</th>\n",
       "      <td>1.North-Apulia</td>\n",
       "      <td>1</td>\n",
       "      <td>1</td>\n",
       "      <td>1075</td>\n",
       "      <td>75</td>\n",
       "      <td>226</td>\n",
       "      <td>7823</td>\n",
       "      <td>672</td>\n",
       "      <td>36</td>\n",
       "      <td>60</td>\n",
       "      <td>29</td>\n",
       "      <td>1.North-Apulia</td>\n",
       "      <td>1.North-Apulia</td>\n",
       "    </tr>\n",
       "    <tr>\n",
       "      <th>1</th>\n",
       "      <td>2.North-Apulia</td>\n",
       "      <td>1</td>\n",
       "      <td>1</td>\n",
       "      <td>1088</td>\n",
       "      <td>73</td>\n",
       "      <td>224</td>\n",
       "      <td>7709</td>\n",
       "      <td>781</td>\n",
       "      <td>31</td>\n",
       "      <td>61</td>\n",
       "      <td>29</td>\n",
       "      <td>2.North-Apulia</td>\n",
       "      <td>2.North-Apulia</td>\n",
       "    </tr>\n",
       "    <tr>\n",
       "      <th>2</th>\n",
       "      <td>3.North-Apulia</td>\n",
       "      <td>1</td>\n",
       "      <td>1</td>\n",
       "      <td>911</td>\n",
       "      <td>54</td>\n",
       "      <td>246</td>\n",
       "      <td>8113</td>\n",
       "      <td>549</td>\n",
       "      <td>31</td>\n",
       "      <td>63</td>\n",
       "      <td>29</td>\n",
       "      <td>3.North-Apulia</td>\n",
       "      <td>3.North-Apulia</td>\n",
       "    </tr>\n",
       "    <tr>\n",
       "      <th>3</th>\n",
       "      <td>4.North-Apulia</td>\n",
       "      <td>1</td>\n",
       "      <td>1</td>\n",
       "      <td>966</td>\n",
       "      <td>57</td>\n",
       "      <td>240</td>\n",
       "      <td>7952</td>\n",
       "      <td>619</td>\n",
       "      <td>50</td>\n",
       "      <td>78</td>\n",
       "      <td>35</td>\n",
       "      <td>4.North-Apulia</td>\n",
       "      <td>4.North-Apulia</td>\n",
       "    </tr>\n",
       "    <tr>\n",
       "      <th>4</th>\n",
       "      <td>5.North-Apulia</td>\n",
       "      <td>1</td>\n",
       "      <td>1</td>\n",
       "      <td>1051</td>\n",
       "      <td>67</td>\n",
       "      <td>259</td>\n",
       "      <td>7771</td>\n",
       "      <td>672</td>\n",
       "      <td>50</td>\n",
       "      <td>80</td>\n",
       "      <td>46</td>\n",
       "      <td>5.North-Apulia</td>\n",
       "      <td>5.North-Apulia</td>\n",
       "    </tr>\n",
       "  </tbody>\n",
       "</table>\n",
       "</div>"
      ],
      "text/plain": [
       "  sub_region_desc  region  sub_region  palmitic  palmitoleic  stearic  oleic  \\\n",
       "0  1.North-Apulia       1           1      1075           75      226   7823   \n",
       "1  2.North-Apulia       1           1      1088           73      224   7709   \n",
       "2  3.North-Apulia       1           1       911           54      246   8113   \n",
       "3  4.North-Apulia       1           1       966           57      240   7952   \n",
       "4  5.North-Apulia       1           1      1051           67      259   7771   \n",
       "\n",
       "   linoleic  linolenic  arachidic  eicosenoic  suf_region_raw  sub_region_raw  \n",
       "0       672         36         60          29  1.North-Apulia  1.North-Apulia  \n",
       "1       781         31         61          29  2.North-Apulia  2.North-Apulia  \n",
       "2       549         31         63          29  3.North-Apulia  3.North-Apulia  \n",
       "3       619         50         78          35  4.North-Apulia  4.North-Apulia  \n",
       "4       672         50         80          46  5.North-Apulia  5.North-Apulia  "
      ]
     },
     "execution_count": 31,
     "metadata": {},
     "output_type": "execute_result"
    }
   ],
   "source": [
    "df = df.rename(columns = {'Unnamed: 0': 'sub_region_desc'})\n",
    "df.head()"
   ]
  },
  {
   "cell_type": "markdown",
   "metadata": {},
   "source": [
    "## Q10:  Rename the column 'area' to:  'sub_region'"
   ]
  },
  {
   "cell_type": "code",
   "execution_count": 17,
   "metadata": {
    "collapsed": false
   },
   "outputs": [],
   "source": [
    " df = df.rename(columns = {'area': 'sub_region'})"
   ]
  },
  {
   "cell_type": "markdown",
   "metadata": {},
   "source": [
    "## Q11:  How many unique values of 'region' are there?\n",
    "\n",
    "Hint:  the answer should be 3"
   ]
  },
  {
   "cell_type": "code",
   "execution_count": 19,
   "metadata": {
    "collapsed": false
   },
   "outputs": [
    {
     "data": {
      "text/plain": [
       "3"
      ]
     },
     "execution_count": 19,
     "metadata": {},
     "output_type": "execute_result"
    }
   ],
   "source": [
    "len(df['region'].unique())"
   ]
  },
  {
   "cell_type": "markdown",
   "metadata": {},
   "source": [
    "## Q12:  How many unique values of 'sub_region' are there?\n",
    "\n",
    "Hint:  the answer should be 9"
   ]
  },
  {
   "cell_type": "code",
   "execution_count": 20,
   "metadata": {
    "collapsed": false
   },
   "outputs": [
    {
     "data": {
      "text/plain": [
       "9"
      ]
     },
     "execution_count": 20,
     "metadata": {},
     "output_type": "execute_result"
    }
   ],
   "source": [
    " len(df['sub_region'].unique())"
   ]
  },
  {
   "cell_type": "markdown",
   "metadata": {},
   "source": [
    "## Q13:  How many unique values of 'sub_region_desc' are there?\n",
    "Hint:  we would like the answer to be 9, but here's where we run into some messy data"
   ]
  },
  {
   "cell_type": "code",
   "execution_count": 40,
   "metadata": {
    "collapsed": false
   },
   "outputs": [
    {
     "data": {
      "text/plain": [
       "9"
      ]
     },
     "execution_count": 40,
     "metadata": {},
     "output_type": "execute_result"
    }
   ],
   "source": [
    "df['sub_region_desc'].unique()"
   ]
  },
  {
   "cell_type": "markdown",
   "metadata": {},
   "source": [
    "## Q14:  Looks like 'sub_region_desc' has line numbers attached to the beginning of region name.  We need to do some data cleaning.  Can you remove them?  \n",
    "```\n",
    " \tregion \tsub_region \tpalmitic \tpalmitoleic \tstearic \toleic \tlinoleic \tlinolenic \tarachidic \teicosenoic \tsub_region_raw\n",
    "sub_region_desc \t\t\t\t\t\t\t\t\t\t\t\n",
    "1.North-Apulia \t1 \t1 \t1 \t1 \t1 \t1 \t1 \t1 \t1 \t1 \t1\n",
    "10.North-Apulia \t1 \t1 \t1 \t1 \t1 \t1 \t1 \t1 \t1 \t1 \t1\n",
    "100.South-Apulia \t1 \t1 \t1 \t1 \t1 \t1 \t1 \t1 \t1 \t1 \t1\n",
    "101.South-Apulia \t1 \t1 \t1 \t1 \t1 \t1 \t1 \t1 \t1 \t1 \t1\n",
    "102.South-Apulia \t1 \t1 \t1 \t1 \t1 \t1 \t1 \t1 \t1 \t1 \t1\n",
    "```\n",
    "\n",
    "Hint:  check out this link\n",
    "http://stackoverflow.com/questions/39583264/pandas-strip-numbers-and-parenthesis-from-string\n",
    " "
   ]
  },
  {
   "cell_type": "code",
   "execution_count": 34,
   "metadata": {
    "collapsed": false
   },
   "outputs": [],
   "source": [
    " df['sub_region_desc'] = df['sub_region_desc'].apply(lambda x: x.strip('1234567890.'))"
   ]
  },
  {
   "cell_type": "code",
   "execution_count": 36,
   "metadata": {
    "collapsed": false
   },
   "outputs": [],
   "source": [
    "#df.head()"
   ]
  },
  {
   "cell_type": "code",
   "execution_count": 88,
   "metadata": {
    "collapsed": false
   },
   "outputs": [
    {
     "data": {
      "text/html": [
       "<div>\n",
       "<table border=\"1\" class=\"dataframe\">\n",
       "  <thead>\n",
       "    <tr style=\"text-align: right;\">\n",
       "      <th></th>\n",
       "      <th>sub_region_desc</th>\n",
       "      <th>region</th>\n",
       "      <th>sub_region</th>\n",
       "      <th>palmitic</th>\n",
       "      <th>palmitoleic</th>\n",
       "      <th>stearic</th>\n",
       "      <th>oleic</th>\n",
       "      <th>linoleic</th>\n",
       "      <th>linolenic</th>\n",
       "      <th>arachidic</th>\n",
       "      <th>eicosenoic</th>\n",
       "      <th>suf_region_raw</th>\n",
       "      <th>sub_region_raw</th>\n",
       "    </tr>\n",
       "  </thead>\n",
       "  <tbody>\n",
       "    <tr>\n",
       "      <th>0</th>\n",
       "      <td>North-Apulia</td>\n",
       "      <td>1</td>\n",
       "      <td>1</td>\n",
       "      <td>1075</td>\n",
       "      <td>75</td>\n",
       "      <td>226</td>\n",
       "      <td>7823</td>\n",
       "      <td>672</td>\n",
       "      <td>36</td>\n",
       "      <td>60</td>\n",
       "      <td>29</td>\n",
       "      <td>1.North-Apulia</td>\n",
       "      <td>1.North-Apulia</td>\n",
       "    </tr>\n",
       "    <tr>\n",
       "      <th>1</th>\n",
       "      <td>North-Apulia</td>\n",
       "      <td>1</td>\n",
       "      <td>1</td>\n",
       "      <td>1088</td>\n",
       "      <td>73</td>\n",
       "      <td>224</td>\n",
       "      <td>7709</td>\n",
       "      <td>781</td>\n",
       "      <td>31</td>\n",
       "      <td>61</td>\n",
       "      <td>29</td>\n",
       "      <td>2.North-Apulia</td>\n",
       "      <td>2.North-Apulia</td>\n",
       "    </tr>\n",
       "    <tr>\n",
       "      <th>2</th>\n",
       "      <td>North-Apulia</td>\n",
       "      <td>1</td>\n",
       "      <td>1</td>\n",
       "      <td>911</td>\n",
       "      <td>54</td>\n",
       "      <td>246</td>\n",
       "      <td>8113</td>\n",
       "      <td>549</td>\n",
       "      <td>31</td>\n",
       "      <td>63</td>\n",
       "      <td>29</td>\n",
       "      <td>3.North-Apulia</td>\n",
       "      <td>3.North-Apulia</td>\n",
       "    </tr>\n",
       "    <tr>\n",
       "      <th>3</th>\n",
       "      <td>North-Apulia</td>\n",
       "      <td>1</td>\n",
       "      <td>1</td>\n",
       "      <td>966</td>\n",
       "      <td>57</td>\n",
       "      <td>240</td>\n",
       "      <td>7952</td>\n",
       "      <td>619</td>\n",
       "      <td>50</td>\n",
       "      <td>78</td>\n",
       "      <td>35</td>\n",
       "      <td>4.North-Apulia</td>\n",
       "      <td>4.North-Apulia</td>\n",
       "    </tr>\n",
       "    <tr>\n",
       "      <th>4</th>\n",
       "      <td>North-Apulia</td>\n",
       "      <td>1</td>\n",
       "      <td>1</td>\n",
       "      <td>1051</td>\n",
       "      <td>67</td>\n",
       "      <td>259</td>\n",
       "      <td>7771</td>\n",
       "      <td>672</td>\n",
       "      <td>50</td>\n",
       "      <td>80</td>\n",
       "      <td>46</td>\n",
       "      <td>5.North-Apulia</td>\n",
       "      <td>5.North-Apulia</td>\n",
       "    </tr>\n",
       "    <tr>\n",
       "      <th>5</th>\n",
       "      <td>North-Apulia</td>\n",
       "      <td>1</td>\n",
       "      <td>1</td>\n",
       "      <td>911</td>\n",
       "      <td>49</td>\n",
       "      <td>268</td>\n",
       "      <td>7924</td>\n",
       "      <td>678</td>\n",
       "      <td>51</td>\n",
       "      <td>70</td>\n",
       "      <td>44</td>\n",
       "      <td>6.North-Apulia</td>\n",
       "      <td>6.North-Apulia</td>\n",
       "    </tr>\n",
       "    <tr>\n",
       "      <th>6</th>\n",
       "      <td>North-Apulia</td>\n",
       "      <td>1</td>\n",
       "      <td>1</td>\n",
       "      <td>922</td>\n",
       "      <td>66</td>\n",
       "      <td>264</td>\n",
       "      <td>7990</td>\n",
       "      <td>618</td>\n",
       "      <td>49</td>\n",
       "      <td>56</td>\n",
       "      <td>29</td>\n",
       "      <td>7.North-Apulia</td>\n",
       "      <td>7.North-Apulia</td>\n",
       "    </tr>\n",
       "    <tr>\n",
       "      <th>7</th>\n",
       "      <td>North-Apulia</td>\n",
       "      <td>1</td>\n",
       "      <td>1</td>\n",
       "      <td>1100</td>\n",
       "      <td>61</td>\n",
       "      <td>235</td>\n",
       "      <td>7728</td>\n",
       "      <td>734</td>\n",
       "      <td>39</td>\n",
       "      <td>64</td>\n",
       "      <td>35</td>\n",
       "      <td>8.North-Apulia</td>\n",
       "      <td>8.North-Apulia</td>\n",
       "    </tr>\n",
       "    <tr>\n",
       "      <th>8</th>\n",
       "      <td>North-Apulia</td>\n",
       "      <td>1</td>\n",
       "      <td>1</td>\n",
       "      <td>1082</td>\n",
       "      <td>60</td>\n",
       "      <td>239</td>\n",
       "      <td>7745</td>\n",
       "      <td>709</td>\n",
       "      <td>46</td>\n",
       "      <td>83</td>\n",
       "      <td>33</td>\n",
       "      <td>9.North-Apulia</td>\n",
       "      <td>9.North-Apulia</td>\n",
       "    </tr>\n",
       "    <tr>\n",
       "      <th>9</th>\n",
       "      <td>North-Apulia</td>\n",
       "      <td>1</td>\n",
       "      <td>1</td>\n",
       "      <td>1037</td>\n",
       "      <td>55</td>\n",
       "      <td>213</td>\n",
       "      <td>7944</td>\n",
       "      <td>633</td>\n",
       "      <td>26</td>\n",
       "      <td>52</td>\n",
       "      <td>30</td>\n",
       "      <td>10.North-Apulia</td>\n",
       "      <td>10.North-Apulia</td>\n",
       "    </tr>\n",
       "  </tbody>\n",
       "</table>\n",
       "</div>"
      ],
      "text/plain": [
       "  sub_region_desc  region  sub_region  palmitic  palmitoleic  stearic  oleic  \\\n",
       "0    North-Apulia       1           1      1075           75      226   7823   \n",
       "1    North-Apulia       1           1      1088           73      224   7709   \n",
       "2    North-Apulia       1           1       911           54      246   8113   \n",
       "3    North-Apulia       1           1       966           57      240   7952   \n",
       "4    North-Apulia       1           1      1051           67      259   7771   \n",
       "5    North-Apulia       1           1       911           49      268   7924   \n",
       "6    North-Apulia       1           1       922           66      264   7990   \n",
       "7    North-Apulia       1           1      1100           61      235   7728   \n",
       "8    North-Apulia       1           1      1082           60      239   7745   \n",
       "9    North-Apulia       1           1      1037           55      213   7944   \n",
       "\n",
       "   linoleic  linolenic  arachidic  eicosenoic   suf_region_raw  \\\n",
       "0       672         36         60          29   1.North-Apulia   \n",
       "1       781         31         61          29   2.North-Apulia   \n",
       "2       549         31         63          29   3.North-Apulia   \n",
       "3       619         50         78          35   4.North-Apulia   \n",
       "4       672         50         80          46   5.North-Apulia   \n",
       "5       678         51         70          44   6.North-Apulia   \n",
       "6       618         49         56          29   7.North-Apulia   \n",
       "7       734         39         64          35   8.North-Apulia   \n",
       "8       709         46         83          33   9.North-Apulia   \n",
       "9       633         26         52          30  10.North-Apulia   \n",
       "\n",
       "    sub_region_raw  \n",
       "0   1.North-Apulia  \n",
       "1   2.North-Apulia  \n",
       "2   3.North-Apulia  \n",
       "3   4.North-Apulia  \n",
       "4   5.North-Apulia  \n",
       "5   6.North-Apulia  \n",
       "6   7.North-Apulia  \n",
       "7   8.North-Apulia  \n",
       "8   9.North-Apulia  \n",
       "9  10.North-Apulia  "
      ]
     },
     "execution_count": 88,
     "metadata": {},
     "output_type": "execute_result"
    }
   ],
   "source": [
    " df.head(10)"
   ]
  },
  {
   "cell_type": "code",
   "execution_count": 8,
   "metadata": {
    "collapsed": false
   },
   "outputs": [],
   "source": [
    "#df.head()"
   ]
  },
  {
   "cell_type": "code",
   "execution_count": 87,
   "metadata": {
    "collapsed": false
   },
   "outputs": [
    {
     "data": {
      "text/html": [
       "<div>\n",
       "<table border=\"1\" class=\"dataframe\">\n",
       "  <thead>\n",
       "    <tr style=\"text-align: right;\">\n",
       "      <th></th>\n",
       "      <th>sub_region_desc</th>\n",
       "      <th>region</th>\n",
       "      <th>sub_region</th>\n",
       "      <th>palmitic</th>\n",
       "      <th>palmitoleic</th>\n",
       "      <th>stearic</th>\n",
       "      <th>oleic</th>\n",
       "      <th>linoleic</th>\n",
       "      <th>linolenic</th>\n",
       "      <th>arachidic</th>\n",
       "      <th>eicosenoic</th>\n",
       "      <th>suf_region_raw</th>\n",
       "      <th>sub_region_raw</th>\n",
       "    </tr>\n",
       "  </thead>\n",
       "  <tbody>\n",
       "    <tr>\n",
       "      <th>10</th>\n",
       "      <td>North-Apulia</td>\n",
       "      <td>1</td>\n",
       "      <td>1</td>\n",
       "      <td>1051</td>\n",
       "      <td>35</td>\n",
       "      <td>219</td>\n",
       "      <td>7978</td>\n",
       "      <td>605</td>\n",
       "      <td>21</td>\n",
       "      <td>65</td>\n",
       "      <td>24</td>\n",
       "      <td>11.North-Apulia</td>\n",
       "      <td>11.North-Apulia</td>\n",
       "    </tr>\n",
       "    <tr>\n",
       "      <th>11</th>\n",
       "      <td>North-Apulia</td>\n",
       "      <td>1</td>\n",
       "      <td>1</td>\n",
       "      <td>1036</td>\n",
       "      <td>59</td>\n",
       "      <td>235</td>\n",
       "      <td>7868</td>\n",
       "      <td>661</td>\n",
       "      <td>30</td>\n",
       "      <td>62</td>\n",
       "      <td>44</td>\n",
       "      <td>12.North-Apulia</td>\n",
       "      <td>12.North-Apulia</td>\n",
       "    </tr>\n",
       "    <tr>\n",
       "      <th>12</th>\n",
       "      <td>North-Apulia</td>\n",
       "      <td>1</td>\n",
       "      <td>1</td>\n",
       "      <td>1074</td>\n",
       "      <td>70</td>\n",
       "      <td>214</td>\n",
       "      <td>7728</td>\n",
       "      <td>747</td>\n",
       "      <td>50</td>\n",
       "      <td>79</td>\n",
       "      <td>33</td>\n",
       "      <td>13.North-Apulia</td>\n",
       "      <td>13.North-Apulia</td>\n",
       "    </tr>\n",
       "    <tr>\n",
       "      <th>13</th>\n",
       "      <td>North-Apulia</td>\n",
       "      <td>1</td>\n",
       "      <td>1</td>\n",
       "      <td>875</td>\n",
       "      <td>52</td>\n",
       "      <td>243</td>\n",
       "      <td>8018</td>\n",
       "      <td>655</td>\n",
       "      <td>41</td>\n",
       "      <td>79</td>\n",
       "      <td>32</td>\n",
       "      <td>14.North-Apulia</td>\n",
       "      <td>14.North-Apulia</td>\n",
       "    </tr>\n",
       "    <tr>\n",
       "      <th>14</th>\n",
       "      <td>North-Apulia</td>\n",
       "      <td>1</td>\n",
       "      <td>1</td>\n",
       "      <td>952</td>\n",
       "      <td>49</td>\n",
       "      <td>254</td>\n",
       "      <td>7795</td>\n",
       "      <td>780</td>\n",
       "      <td>50</td>\n",
       "      <td>75</td>\n",
       "      <td>41</td>\n",
       "      <td>15.North-Apulia</td>\n",
       "      <td>15.North-Apulia</td>\n",
       "    </tr>\n",
       "    <tr>\n",
       "      <th>15</th>\n",
       "      <td>North-Apulia</td>\n",
       "      <td>1</td>\n",
       "      <td>1</td>\n",
       "      <td>1155</td>\n",
       "      <td>98</td>\n",
       "      <td>201</td>\n",
       "      <td>7606</td>\n",
       "      <td>816</td>\n",
       "      <td>32</td>\n",
       "      <td>60</td>\n",
       "      <td>29</td>\n",
       "      <td>16.North-Apulia</td>\n",
       "      <td>16.North-Apulia</td>\n",
       "    </tr>\n",
       "    <tr>\n",
       "      <th>16</th>\n",
       "      <td>North-Apulia</td>\n",
       "      <td>1</td>\n",
       "      <td>1</td>\n",
       "      <td>943</td>\n",
       "      <td>94</td>\n",
       "      <td>183</td>\n",
       "      <td>7840</td>\n",
       "      <td>788</td>\n",
       "      <td>42</td>\n",
       "      <td>75</td>\n",
       "      <td>31</td>\n",
       "      <td>17.North-Apulia</td>\n",
       "      <td>17.North-Apulia</td>\n",
       "    </tr>\n",
       "    <tr>\n",
       "      <th>17</th>\n",
       "      <td>North-Apulia</td>\n",
       "      <td>1</td>\n",
       "      <td>1</td>\n",
       "      <td>1278</td>\n",
       "      <td>69</td>\n",
       "      <td>205</td>\n",
       "      <td>7344</td>\n",
       "      <td>957</td>\n",
       "      <td>45</td>\n",
       "      <td>70</td>\n",
       "      <td>28</td>\n",
       "      <td>18.North-Apulia</td>\n",
       "      <td>18.North-Apulia</td>\n",
       "    </tr>\n",
       "    <tr>\n",
       "      <th>18</th>\n",
       "      <td>North-Apulia</td>\n",
       "      <td>1</td>\n",
       "      <td>1</td>\n",
       "      <td>961</td>\n",
       "      <td>70</td>\n",
       "      <td>195</td>\n",
       "      <td>7958</td>\n",
       "      <td>742</td>\n",
       "      <td>46</td>\n",
       "      <td>75</td>\n",
       "      <td>30</td>\n",
       "      <td>19.North-Apulia</td>\n",
       "      <td>19.North-Apulia</td>\n",
       "    </tr>\n",
       "    <tr>\n",
       "      <th>19</th>\n",
       "      <td>North-Apulia</td>\n",
       "      <td>1</td>\n",
       "      <td>1</td>\n",
       "      <td>952</td>\n",
       "      <td>77</td>\n",
       "      <td>258</td>\n",
       "      <td>7820</td>\n",
       "      <td>736</td>\n",
       "      <td>43</td>\n",
       "      <td>78</td>\n",
       "      <td>33</td>\n",
       "      <td>20.North-Apulia</td>\n",
       "      <td>20.North-Apulia</td>\n",
       "    </tr>\n",
       "  </tbody>\n",
       "</table>\n",
       "</div>"
      ],
      "text/plain": [
       "   sub_region_desc  region  sub_region  palmitic  palmitoleic  stearic  oleic  \\\n",
       "10    North-Apulia       1           1      1051           35      219   7978   \n",
       "11    North-Apulia       1           1      1036           59      235   7868   \n",
       "12    North-Apulia       1           1      1074           70      214   7728   \n",
       "13    North-Apulia       1           1       875           52      243   8018   \n",
       "14    North-Apulia       1           1       952           49      254   7795   \n",
       "15    North-Apulia       1           1      1155           98      201   7606   \n",
       "16    North-Apulia       1           1       943           94      183   7840   \n",
       "17    North-Apulia       1           1      1278           69      205   7344   \n",
       "18    North-Apulia       1           1       961           70      195   7958   \n",
       "19    North-Apulia       1           1       952           77      258   7820   \n",
       "\n",
       "    linoleic  linolenic  arachidic  eicosenoic   suf_region_raw  \\\n",
       "10       605         21         65          24  11.North-Apulia   \n",
       "11       661         30         62          44  12.North-Apulia   \n",
       "12       747         50         79          33  13.North-Apulia   \n",
       "13       655         41         79          32  14.North-Apulia   \n",
       "14       780         50         75          41  15.North-Apulia   \n",
       "15       816         32         60          29  16.North-Apulia   \n",
       "16       788         42         75          31  17.North-Apulia   \n",
       "17       957         45         70          28  18.North-Apulia   \n",
       "18       742         46         75          30  19.North-Apulia   \n",
       "19       736         43         78          33  20.North-Apulia   \n",
       "\n",
       "     sub_region_raw  \n",
       "10  11.North-Apulia  \n",
       "11  12.North-Apulia  \n",
       "12  13.North-Apulia  \n",
       "13  14.North-Apulia  \n",
       "14  15.North-Apulia  \n",
       "15  16.North-Apulia  \n",
       "16  17.North-Apulia  \n",
       "17  18.North-Apulia  \n",
       "18  19.North-Apulia  \n",
       "19  20.North-Apulia  "
      ]
     },
     "execution_count": 87,
     "metadata": {},
     "output_type": "execute_result"
    }
   ],
   "source": [
    "df[10:20]"
   ]
  },
  {
   "cell_type": "code",
   "execution_count": 9,
   "metadata": {
    "collapsed": false
   },
   "outputs": [],
   "source": [
    "#df.head()"
   ]
  },
  {
   "cell_type": "markdown",
   "metadata": {
    "collapsed": false
   },
   "source": [
    "## Q15:  Try again:  How many unique values of 'sub_region_desc' are there?\n",
    "Hint:  you should see 9 of them!"
   ]
  },
  {
   "cell_type": "code",
   "execution_count": 39,
   "metadata": {
    "collapsed": false
   },
   "outputs": [
    {
     "data": {
      "text/plain": [
       "9"
      ]
     },
     "execution_count": 39,
     "metadata": {},
     "output_type": "execute_result"
    }
   ],
   "source": [
    " len(df['sub_region_desc'].unique())"
   ]
  },
  {
   "cell_type": "markdown",
   "metadata": {},
   "source": [
    "## Q16:   Create a horizontal frequency barplot for 'region'"
   ]
  },
  {
   "cell_type": "code",
   "execution_count": 59,
   "metadata": {
    "collapsed": false
   },
   "outputs": [
    {
     "data": {
      "image/png": "[encoded data removed]",
      "text/plain": [
       "<matplotlib.figure.Figure at 0x1a1fe1d0>"
      ]
     },
     "metadata": {},
     "output_type": "display_data"
    }
   ],
   "source": [
    "reg_freq = df.groupby('region').size()\n",
    "reg_freq.plot(kind='barh', figsize=[5,5])\n",
    "plt.title(\"Distribution by Region\")\n",
    "plt.ylabel('Region')\n",
    "plt.xlabel('Total Count')v"
   ]
  },
  {
   "cell_type": "markdown",
   "metadata": {},
   "source": [
    "## Q17:   Create a horizontal frequency barplot for 'sub_region'"
   ]
  },
  {
   "cell_type": "code",
   "execution_count": 75,
   "metadata": {
    "collapsed": false
   },
   "outputs": [
    {
     "data": {
      "text/plain": [
       "<matplotlib.text.Text at 0x1093a6a0>"
      ]
     },
     "execution_count": 75,
     "metadata": {},
     "output_type": "execute_result"
    },
    {
     "data": {
      "image/png": "[encoded data removed]",
      "text/plain": [
       "<matplotlib.figure.Figure at 0x1b630b00>"
      ]
     },
     "metadata": {},
     "output_type": "display_data"
    }
   ],
   "source": [
    "sub_reg_freq = df.groupby('sub_region').size()\n",
    "sub_reg_freq.plot(kind='barh', figsize=[5,5])\n",
    "plt.title(\"Distribution by Sub_Region\")\n",
    "plt.ylabel('Sub Region')\n",
    "plt.xlabel('Total Count') \n"
   ]
  },
  {
   "cell_type": "markdown",
   "metadata": {},
   "source": [
    "## Q18:   Create a horizontal frequency barplot for 'sub_region_desc'"
   ]
  },
  {
   "cell_type": "code",
   "execution_count": 78,
   "metadata": {
    "collapsed": false
   },
   "outputs": [
    {
     "data": {
      "text/plain": [
       "<matplotlib.text.Text at 0x28c72470>"
      ]
     },
     "execution_count": 78,
     "metadata": {},
     "output_type": "execute_result"
    },
    {
     "data": {
      "image/png": "[encoded data removed]",
      "text/plain": [
       "<matplotlib.figure.Figure at 0x1bf65550>"
      ]
     },
     "metadata": {},
     "output_type": "display_data"
    }
   ],
   "source": [
    "df.groupby('sub_region_desc').size().plot(kind='barh', figsize=[5,5])\n",
    "\n",
    "plt.title(\"Distribution by Sub_Region\")\n",
    "plt.ylabel('Sub Region')\n",
    "plt.xlabel('Total Count') "
   ]
  },
  {
   "cell_type": "code",
   "execution_count": null,
   "metadata": {
    "collapsed": false
   },
   "outputs": [],
   "source": []
  },
  {
   "cell_type": "code",
   "execution_count": null,
   "metadata": {
    "collapsed": true
   },
   "outputs": [],
   "source": []
  }
 ],
 "metadata": {
  "anaconda-cloud": {},
  "kernelspec": {
   "display_name": "Python 2",
   "language": "python",
   "name": "python2"
  },
  "language_info": {
   "codemirror_mode": {
    "name": "ipython",
    "version": 2
   },
   "file_extension": ".py",
   "mimetype": "text/x-python",
   "name": "python",
   "nbconvert_exporter": "python",
   "pygments_lexer": "ipython2",
   "version": "2.7.11"
  }
 },
 "nbformat": 4,
 "nbformat_minor": 0
}
